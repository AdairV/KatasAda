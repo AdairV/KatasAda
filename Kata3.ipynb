{
 "cells": [
  {
   "cell_type": "markdown",
   "metadata": {},
   "source": [
    "# Escribir declaraciones if, else, y elif\n",
    "\n",
    "# Problema No. 1\n"
   ]
  },
  {
   "cell_type": "code",
   "execution_count": 4,
   "metadata": {},
   "outputs": [
    {
     "name": "stdout",
     "output_type": "stream",
     "text": [
      "¡Aguas! ¡Un meteorito esta cayendo a toda maquina!\n"
     ]
    }
   ],
   "source": [
    "meteorito = 49\n",
    "if meteorito > 25:\n",
    "    print('¡Aguas! ¡Un meteorito esta cayendo a toda maquina!')\n",
    "else:\n",
    "    print('¡Feliz cumpleaños!')"
   ]
  },
  {
   "cell_type": "markdown",
   "metadata": {},
   "source": [
    "# Problema No. 2"
   ]
  },
  {
   "cell_type": "code",
   "execution_count": 5,
   "metadata": {},
   "outputs": [
    {
     "name": "stdout",
     "output_type": "stream",
     "text": [
      "¡Siguele!\n"
     ]
    }
   ],
   "source": [
    "meteorito = 19\n",
    "if meteorito > 20:\n",
    "    print('Mira no mas! ¡Hay un ovni en el cielo!')\n",
    "elif meteorito == 20:\n",
    "    print('Mira no mas! ¡Hay un ovni en el cielo!')\n",
    "else:\n",
    "    print('¡Siguele!')"
   ]
  },
  {
   "cell_type": "markdown",
   "metadata": {},
   "source": [
    "# Problema No. 3"
   ]
  },
  {
   "cell_type": "code",
   "execution_count": 6,
   "metadata": {},
   "outputs": [
    {
     "name": "stdout",
     "output_type": "stream",
     "text": [
      "Mira no mas! ¡Hay un ovni en el cielo!\n"
     ]
    }
   ],
   "source": [
    "velocidad_meteorito = 25\n",
    "tamano_meteorito = 40\n",
    "if velocidad_meteorito > 25 and tamano_meteorito > 25:\n",
    "    print('¡Aguas, Un meteorito esta cayendo a toda maquina!')\n",
    "elif velocidad_asteroide >= 20:\n",
    "    print('Mira no mas! ¡Hay un ovni en el cielo!')\n",
    "elif tamano_asteroide < 25:\n",
    "    print('Siguele :)')\n",
    "else:\n",
    "    print('Siguele :)')"
   ]
  }
 ],
 "metadata": {
  "interpreter": {
   "hash": "a29e1fb6683002b636560db254076994f59567f0270ab4cc0d58f0bc21ebc82f"
  },
  "kernelspec": {
   "display_name": "Python 3.10.2 64-bit",
   "language": "python",
   "name": "python3"
  },
  "language_info": {
   "codemirror_mode": {
    "name": "ipython",
    "version": 3
   },
   "file_extension": ".py",
   "mimetype": "text/x-python",
   "name": "python",
   "nbconvert_exporter": "python",
   "pygments_lexer": "ipython3",
   "version": "3.10.2"
  },
  "orig_nbformat": 4
 },
 "nbformat": 4,
 "nbformat_minor": 2
}
